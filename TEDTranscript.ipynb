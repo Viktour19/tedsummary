{
 "cells": [
  {
   "cell_type": "code",
   "execution_count": null,
   "metadata": {
    "collapsed": false
   },
   "outputs": [
    {
     "name": "stdout",
     "output_type": "stream",
     "text": [
      "\n",
      "\n",
      "\n",
      "\n",
      "\n",
      "\n",
      "\n",
      "\n",
      "\n",
      "\n",
      "\n",
      "\n",
      "\n",
      "\n",
      "\n",
      "\n",
      "\n",
      "\n",
      "\n",
      "\n",
      "\n",
      "\n",
      "\n",
      "\n",
      "\n",
      "\n",
      "\n",
      "\n",
      "\n",
      "\n",
      "\n",
      "\n",
      "\n",
      "\n",
      "\n",
      "\n",
      "\n",
      "\n",
      "\n",
      "\n",
      "\n",
      "\n",
      "\n",
      "\n",
      "\n",
      "\n",
      "\n",
      "\n"
     ]
    }
   ],
   "source": [
    "import urllib2\n",
    "from bs4 import BeautifulSoup\n",
    "page = urllib2.urlopen('http://www.ted.com/talks?page=1').read()\n",
    "soup = BeautifulSoup(page, 'html.parser')\n",
    "\n",
    "# get the number of the last page\n",
    "\n",
    "last = soup.findAll(\"a\", class_=\"pagination__item pagination__link\")[-1].string\n",
    "\n",
    "# get the talks \n",
    "results = soup.findAll(\"div\", class_=\"talk-link\");\n",
    "\n",
    "# get individual information from each talk\n",
    "\n",
    "i = 0\n",
    "\n",
    "ct =0\n",
    "for result in results:\n",
    "    ct = ct + 1\n",
    "    \n",
    "    uri = result.find(\"div\", class_=\"media__image media__image--thumb talk-link__image\").select(\"a\")[0]['href']\n",
    "    url = 'http://www.ted.com' + uri\n",
    "    talkpage = urllib2.urlopen(url)\n",
    "    talkpagesoup = BeautifulSoup(talkpage, 'html.parser')\n",
    "    talkpagetopics = talkpagesoup.findAll(\"a\", class_=\"l3 talk-topics__link ga-link\")\n",
    "    topics = []\n",
    "    transcript = \"\"\n",
    "    \n",
    "    for topic in talkpagetopics:\n",
    "        topics.append(topic.string)\n",
    "    \n",
    "    turl = url + '/transcript?Language=en'\n",
    "    transcriptpage = urllib2.urlopen(turl)\n",
    "    transcriptsoup = BeautifulSoup(transcriptpage, 'html.parser')\n",
    "    \n",
    "    parags = transcriptsoup.findAll(\"span\", class_=\"talk-transcript__para__text\")\n",
    "    \n",
    "    for para in parags:\n",
    "        frags = para.findAll(\"span\", class_=\"talk-transcript__fragment\")\n",
    "        for frag in frags:\n",
    "            transcript = transcript + frag.string + \" \"\n",
    "    \n",
    "#     print(transcript)\n",
    "    \n",
    "\n",
    "    print(\"\\n\\n\\n\")\n",
    "    "
   ]
  },
  {
   "cell_type": "code",
   "execution_count": null,
   "metadata": {
    "collapsed": true
   },
   "outputs": [],
   "source": []
  }
 ],
 "metadata": {
  "kernelspec": {
   "display_name": "Python [Root]",
   "language": "python",
   "name": "Python [Root]"
  },
  "language_info": {
   "codemirror_mode": {
    "name": "ipython",
    "version": 2
   },
   "file_extension": ".py",
   "mimetype": "text/x-python",
   "name": "python",
   "nbconvert_exporter": "python",
   "pygments_lexer": "ipython2",
   "version": "2.7.12"
  }
 },
 "nbformat": 4,
 "nbformat_minor": 0
}
